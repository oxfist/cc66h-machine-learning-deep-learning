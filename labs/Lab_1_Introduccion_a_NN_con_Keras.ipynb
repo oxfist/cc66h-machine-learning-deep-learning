{
  "cells": [
    {
      "cell_type": "code",
      "execution_count": 28,
      "metadata": {},
      "outputs": [
        {
          "name": "stdout",
          "output_type": "stream",
          "text": [
            "Requirement already satisfied: tensorflow in /Users/oxfist/.pyenv/versions/3.12.2/lib/python3.12/site-packages (2.16.1)\n",
            "Requirement already satisfied: absl-py>=1.0.0 in /Users/oxfist/.pyenv/versions/3.12.2/lib/python3.12/site-packages (from tensorflow) (2.1.0)\n",
            "Requirement already satisfied: astunparse>=1.6.0 in /Users/oxfist/.pyenv/versions/3.12.2/lib/python3.12/site-packages (from tensorflow) (1.6.3)\n",
            "Requirement already satisfied: flatbuffers>=23.5.26 in /Users/oxfist/.pyenv/versions/3.12.2/lib/python3.12/site-packages (from tensorflow) (24.3.25)\n",
            "Requirement already satisfied: gast!=0.5.0,!=0.5.1,!=0.5.2,>=0.2.1 in /Users/oxfist/.pyenv/versions/3.12.2/lib/python3.12/site-packages (from tensorflow) (0.5.4)\n",
            "Requirement already satisfied: google-pasta>=0.1.1 in /Users/oxfist/.pyenv/versions/3.12.2/lib/python3.12/site-packages (from tensorflow) (0.2.0)\n",
            "Requirement already satisfied: h5py>=3.10.0 in /Users/oxfist/.pyenv/versions/3.12.2/lib/python3.12/site-packages (from tensorflow) (3.11.0)\n",
            "Requirement already satisfied: libclang>=13.0.0 in /Users/oxfist/.pyenv/versions/3.12.2/lib/python3.12/site-packages (from tensorflow) (18.1.1)\n",
            "Requirement already satisfied: ml-dtypes~=0.3.1 in /Users/oxfist/.pyenv/versions/3.12.2/lib/python3.12/site-packages (from tensorflow) (0.3.2)\n",
            "Requirement already satisfied: opt-einsum>=2.3.2 in /Users/oxfist/.pyenv/versions/3.12.2/lib/python3.12/site-packages (from tensorflow) (3.3.0)\n",
            "Requirement already satisfied: packaging in /Users/oxfist/.pyenv/versions/3.12.2/lib/python3.12/site-packages (from tensorflow) (24.0)\n",
            "Requirement already satisfied: protobuf!=4.21.0,!=4.21.1,!=4.21.2,!=4.21.3,!=4.21.4,!=4.21.5,<5.0.0dev,>=3.20.3 in /Users/oxfist/.pyenv/versions/3.12.2/lib/python3.12/site-packages (from tensorflow) (4.25.3)\n",
            "Requirement already satisfied: requests<3,>=2.21.0 in /Users/oxfist/.pyenv/versions/3.12.2/lib/python3.12/site-packages (from tensorflow) (2.32.3)\n",
            "Requirement already satisfied: setuptools in /Users/oxfist/.pyenv/versions/3.12.2/lib/python3.12/site-packages (from tensorflow) (70.0.0)\n",
            "Requirement already satisfied: six>=1.12.0 in /Users/oxfist/.pyenv/versions/3.12.2/lib/python3.12/site-packages (from tensorflow) (1.16.0)\n",
            "Requirement already satisfied: termcolor>=1.1.0 in /Users/oxfist/.pyenv/versions/3.12.2/lib/python3.12/site-packages (from tensorflow) (2.4.0)\n",
            "Requirement already satisfied: typing-extensions>=3.6.6 in /Users/oxfist/.pyenv/versions/3.12.2/lib/python3.12/site-packages (from tensorflow) (4.12.2)\n",
            "Requirement already satisfied: wrapt>=1.11.0 in /Users/oxfist/.pyenv/versions/3.12.2/lib/python3.12/site-packages (from tensorflow) (1.16.0)\n",
            "Requirement already satisfied: grpcio<2.0,>=1.24.3 in /Users/oxfist/.pyenv/versions/3.12.2/lib/python3.12/site-packages (from tensorflow) (1.64.1)\n",
            "Requirement already satisfied: tensorboard<2.17,>=2.16 in /Users/oxfist/.pyenv/versions/3.12.2/lib/python3.12/site-packages (from tensorflow) (2.16.2)\n",
            "Requirement already satisfied: keras>=3.0.0 in /Users/oxfist/.pyenv/versions/3.12.2/lib/python3.12/site-packages (from tensorflow) (3.3.3)\n",
            "Requirement already satisfied: numpy<2.0.0,>=1.26.0 in /Users/oxfist/.pyenv/versions/3.12.2/lib/python3.12/site-packages (from tensorflow) (1.26.4)\n",
            "Requirement already satisfied: wheel<1.0,>=0.23.0 in /Users/oxfist/.pyenv/versions/3.12.2/lib/python3.12/site-packages (from astunparse>=1.6.0->tensorflow) (0.43.0)\n",
            "Requirement already satisfied: rich in /Users/oxfist/.pyenv/versions/3.12.2/lib/python3.12/site-packages (from keras>=3.0.0->tensorflow) (13.7.1)\n",
            "Requirement already satisfied: namex in /Users/oxfist/.pyenv/versions/3.12.2/lib/python3.12/site-packages (from keras>=3.0.0->tensorflow) (0.0.8)\n",
            "Requirement already satisfied: optree in /Users/oxfist/.pyenv/versions/3.12.2/lib/python3.12/site-packages (from keras>=3.0.0->tensorflow) (0.11.0)\n",
            "Requirement already satisfied: charset-normalizer<4,>=2 in /Users/oxfist/.pyenv/versions/3.12.2/lib/python3.12/site-packages (from requests<3,>=2.21.0->tensorflow) (3.3.2)\n",
            "Requirement already satisfied: idna<4,>=2.5 in /Users/oxfist/.pyenv/versions/3.12.2/lib/python3.12/site-packages (from requests<3,>=2.21.0->tensorflow) (3.7)\n",
            "Requirement already satisfied: urllib3<3,>=1.21.1 in /Users/oxfist/.pyenv/versions/3.12.2/lib/python3.12/site-packages (from requests<3,>=2.21.0->tensorflow) (2.2.1)\n",
            "Requirement already satisfied: certifi>=2017.4.17 in /Users/oxfist/.pyenv/versions/3.12.2/lib/python3.12/site-packages (from requests<3,>=2.21.0->tensorflow) (2024.6.2)\n",
            "Requirement already satisfied: markdown>=2.6.8 in /Users/oxfist/.pyenv/versions/3.12.2/lib/python3.12/site-packages (from tensorboard<2.17,>=2.16->tensorflow) (3.6)\n",
            "Requirement already satisfied: tensorboard-data-server<0.8.0,>=0.7.0 in /Users/oxfist/.pyenv/versions/3.12.2/lib/python3.12/site-packages (from tensorboard<2.17,>=2.16->tensorflow) (0.7.2)\n",
            "Requirement already satisfied: werkzeug>=1.0.1 in /Users/oxfist/.pyenv/versions/3.12.2/lib/python3.12/site-packages (from tensorboard<2.17,>=2.16->tensorflow) (3.0.3)\n",
            "Requirement already satisfied: MarkupSafe>=2.1.1 in /Users/oxfist/.pyenv/versions/3.12.2/lib/python3.12/site-packages (from werkzeug>=1.0.1->tensorboard<2.17,>=2.16->tensorflow) (2.1.5)\n",
            "Requirement already satisfied: markdown-it-py>=2.2.0 in /Users/oxfist/.pyenv/versions/3.12.2/lib/python3.12/site-packages (from rich->keras>=3.0.0->tensorflow) (3.0.0)\n",
            "Requirement already satisfied: pygments<3.0.0,>=2.13.0 in /Users/oxfist/.pyenv/versions/3.12.2/lib/python3.12/site-packages (from rich->keras>=3.0.0->tensorflow) (2.18.0)\n",
            "Requirement already satisfied: mdurl~=0.1 in /Users/oxfist/.pyenv/versions/3.12.2/lib/python3.12/site-packages (from markdown-it-py>=2.2.0->rich->keras>=3.0.0->tensorflow) (0.1.2)\n",
            "\n",
            "\u001b[1m[\u001b[0m\u001b[34;49mnotice\u001b[0m\u001b[1;39;49m]\u001b[0m\u001b[39;49m A new release of pip is available: \u001b[0m\u001b[31;49m24.0\u001b[0m\u001b[39;49m -> \u001b[0m\u001b[32;49m24.1.1\u001b[0m\n",
            "\u001b[1m[\u001b[0m\u001b[34;49mnotice\u001b[0m\u001b[1;39;49m]\u001b[0m\u001b[39;49m To update, run: \u001b[0m\u001b[32;49m/Users/oxfist/.pyenv/versions/3.12.2/bin/python3.12 -m pip install --upgrade pip\u001b[0m\n",
            "Note: you may need to restart the kernel to use updated packages.\n"
          ]
        }
      ],
      "source": [
        "%pip install tensorflow"
      ]
    },
    {
      "cell_type": "markdown",
      "metadata": {
        "id": "Zu0VgDj7lW_D"
      },
      "source": [
        "# Redes Feed Forward en Keras"
      ]
    },
    {
      "cell_type": "code",
      "execution_count": 29,
      "metadata": {
        "id": "P4DSrq_3aech"
      },
      "outputs": [],
      "source": [
        "import numpy as np\n",
        "from tensorflow import keras"
      ]
    },
    {
      "cell_type": "code",
      "execution_count": 30,
      "metadata": {
        "id": "ZuHWCb6beXNO"
      },
      "outputs": [],
      "source": [
        "# Una red feed forward en keras se puede crear con keras.Sequential\n",
        "\n",
        "red_de_prueba = keras.Sequential()\n",
        "\n",
        "# Por ahora nuestra red está vacía"
      ]
    },
    {
      "cell_type": "code",
      "execution_count": 31,
      "metadata": {
        "id": "nVFAZZ43eh8K"
      },
      "outputs": [
        {
          "name": "stdout",
          "output_type": "stream",
          "text": [
            "(None, 20)\n"
          ]
        },
        {
          "name": "stderr",
          "output_type": "stream",
          "text": [
            "/Users/oxfist/.pyenv/versions/3.12.2/lib/python3.12/site-packages/keras/src/layers/core/dense.py:87: UserWarning: Do not pass an `input_shape`/`input_dim` argument to a layer. When using Sequential models, prefer using an `Input(shape)` object as the first layer in the model instead.\n",
            "  super().__init__(activity_regularizer=activity_regularizer, **kwargs)\n"
          ]
        },
        {
          "data": {
            "text/html": [
              "<pre style=\"white-space:pre;overflow-x:auto;line-height:normal;font-family:Menlo,'DejaVu Sans Mono',consolas,'Courier New',monospace\"><span style=\"font-weight: bold\">Model: \"sequential_4\"</span>\n",
              "</pre>\n"
            ],
            "text/plain": [
              "\u001b[1mModel: \"sequential_4\"\u001b[0m\n"
            ]
          },
          "metadata": {},
          "output_type": "display_data"
        },
        {
          "data": {
            "text/html": [
              "<pre style=\"white-space:pre;overflow-x:auto;line-height:normal;font-family:Menlo,'DejaVu Sans Mono',consolas,'Courier New',monospace\">┏━━━━━━━━━━━━━━━━━━━━━━━━━━━━━━━━━┳━━━━━━━━━━━━━━━━━━━━━━━━┳━━━━━━━━━━━━━━━┓\n",
              "┃<span style=\"font-weight: bold\"> Layer (type)                    </span>┃<span style=\"font-weight: bold\"> Output Shape           </span>┃<span style=\"font-weight: bold\">       Param # </span>┃\n",
              "┡━━━━━━━━━━━━━━━━━━━━━━━━━━━━━━━━━╇━━━━━━━━━━━━━━━━━━━━━━━━╇━━━━━━━━━━━━━━━┩\n",
              "│ primera_capa (<span style=\"color: #0087ff; text-decoration-color: #0087ff\">Dense</span>)            │ (<span style=\"color: #00d7ff; text-decoration-color: #00d7ff\">None</span>, <span style=\"color: #00af00; text-decoration-color: #00af00\">30</span>)             │         <span style=\"color: #00af00; text-decoration-color: #00af00\">1,230</span> │\n",
              "├─────────────────────────────────┼────────────────────────┼───────────────┤\n",
              "│ segunda_capa (<span style=\"color: #0087ff; text-decoration-color: #0087ff\">Dense</span>)            │ (<span style=\"color: #00d7ff; text-decoration-color: #00d7ff\">None</span>, <span style=\"color: #00af00; text-decoration-color: #00af00\">20</span>)             │           <span style=\"color: #00af00; text-decoration-color: #00af00\">620</span> │\n",
              "└─────────────────────────────────┴────────────────────────┴───────────────┘\n",
              "</pre>\n"
            ],
            "text/plain": [
              "┏━━━━━━━━━━━━━━━━━━━━━━━━━━━━━━━━━┳━━━━━━━━━━━━━━━━━━━━━━━━┳━━━━━━━━━━━━━━━┓\n",
              "┃\u001b[1m \u001b[0m\u001b[1mLayer (type)                   \u001b[0m\u001b[1m \u001b[0m┃\u001b[1m \u001b[0m\u001b[1mOutput Shape          \u001b[0m\u001b[1m \u001b[0m┃\u001b[1m \u001b[0m\u001b[1m      Param #\u001b[0m\u001b[1m \u001b[0m┃\n",
              "┡━━━━━━━━━━━━━━━━━━━━━━━━━━━━━━━━━╇━━━━━━━━━━━━━━━━━━━━━━━━╇━━━━━━━━━━━━━━━┩\n",
              "│ primera_capa (\u001b[38;5;33mDense\u001b[0m)            │ (\u001b[38;5;45mNone\u001b[0m, \u001b[38;5;34m30\u001b[0m)             │         \u001b[38;5;34m1,230\u001b[0m │\n",
              "├─────────────────────────────────┼────────────────────────┼───────────────┤\n",
              "│ segunda_capa (\u001b[38;5;33mDense\u001b[0m)            │ (\u001b[38;5;45mNone\u001b[0m, \u001b[38;5;34m20\u001b[0m)             │           \u001b[38;5;34m620\u001b[0m │\n",
              "└─────────────────────────────────┴────────────────────────┴───────────────┘\n"
            ]
          },
          "metadata": {},
          "output_type": "display_data"
        },
        {
          "data": {
            "text/html": [
              "<pre style=\"white-space:pre;overflow-x:auto;line-height:normal;font-family:Menlo,'DejaVu Sans Mono',consolas,'Courier New',monospace\"><span style=\"font-weight: bold\"> Total params: </span><span style=\"color: #00af00; text-decoration-color: #00af00\">1,850</span> (7.23 KB)\n",
              "</pre>\n"
            ],
            "text/plain": [
              "\u001b[1m Total params: \u001b[0m\u001b[38;5;34m1,850\u001b[0m (7.23 KB)\n"
            ]
          },
          "metadata": {},
          "output_type": "display_data"
        },
        {
          "data": {
            "text/html": [
              "<pre style=\"white-space:pre;overflow-x:auto;line-height:normal;font-family:Menlo,'DejaVu Sans Mono',consolas,'Courier New',monospace\"><span style=\"font-weight: bold\"> Trainable params: </span><span style=\"color: #00af00; text-decoration-color: #00af00\">1,850</span> (7.23 KB)\n",
              "</pre>\n"
            ],
            "text/plain": [
              "\u001b[1m Trainable params: \u001b[0m\u001b[38;5;34m1,850\u001b[0m (7.23 KB)\n"
            ]
          },
          "metadata": {},
          "output_type": "display_data"
        },
        {
          "data": {
            "text/html": [
              "<pre style=\"white-space:pre;overflow-x:auto;line-height:normal;font-family:Menlo,'DejaVu Sans Mono',consolas,'Courier New',monospace\"><span style=\"font-weight: bold\"> Non-trainable params: </span><span style=\"color: #00af00; text-decoration-color: #00af00\">0</span> (0.00 B)\n",
              "</pre>\n"
            ],
            "text/plain": [
              "\u001b[1m Non-trainable params: \u001b[0m\u001b[38;5;34m0\u001b[0m (0.00 B)\n"
            ]
          },
          "metadata": {},
          "output_type": "display_data"
        }
      ],
      "source": [
        "# Se pueden agregar capas con el método .add\n",
        "# Por ahora usaremos capas densas, que se crean con keras.layers.Dense\n",
        "# Una capa dense está definida por la cantidad de neuronas y la\n",
        "# función de activación. También se le puede asignar un nombre.\n",
        "#\n",
        "# El siguiente código agrega dos capas:\n",
        "# - una primera capa con 30 neuronas y activación sigmoid\n",
        "# - una segunnda capa con 20 neuronas y activación relu\n",
        "#\n",
        "# Nota que a la primera capa debes decirle el tamaño de la entrada\n",
        "# Estamos suponiendo que la entrada es de tamaño 40.\n",
        "\n",
        "red_de_prueba = keras.Sequential()\n",
        "\n",
        "red_de_prueba.add(\n",
        "    keras.layers.Dense(30, input_dim=40, activation='sigmoid',\n",
        "                       name='primera_capa')\n",
        ")\n",
        "\n",
        "red_de_prueba.add(\n",
        "    keras.layers.Dense(20, activation='relu', name='segunda_capa')\n",
        ")\n",
        "\n",
        "# Se puede ver un resumen de la red hasta ahora con .summary\n",
        "\n",
        "print(red_de_prueba.output_shape)\n",
        "red_de_prueba.summary()"
      ]
    },
    {
      "cell_type": "code",
      "execution_count": 32,
      "metadata": {
        "id": "AglNosCMf2gR"
      },
      "outputs": [
        {
          "data": {
            "text/html": [
              "<pre style=\"white-space:pre;overflow-x:auto;line-height:normal;font-family:Menlo,'DejaVu Sans Mono',consolas,'Courier New',monospace\"><span style=\"font-weight: bold\">Model: \"sequential_4\"</span>\n",
              "</pre>\n"
            ],
            "text/plain": [
              "\u001b[1mModel: \"sequential_4\"\u001b[0m\n"
            ]
          },
          "metadata": {},
          "output_type": "display_data"
        },
        {
          "data": {
            "text/html": [
              "<pre style=\"white-space:pre;overflow-x:auto;line-height:normal;font-family:Menlo,'DejaVu Sans Mono',consolas,'Courier New',monospace\">┏━━━━━━━━━━━━━━━━━━━━━━━━━━━━━━━━━┳━━━━━━━━━━━━━━━━━━━━━━━━┳━━━━━━━━━━━━━━━┓\n",
              "┃<span style=\"font-weight: bold\"> Layer (type)                    </span>┃<span style=\"font-weight: bold\"> Output Shape           </span>┃<span style=\"font-weight: bold\">       Param # </span>┃\n",
              "┡━━━━━━━━━━━━━━━━━━━━━━━━━━━━━━━━━╇━━━━━━━━━━━━━━━━━━━━━━━━╇━━━━━━━━━━━━━━━┩\n",
              "│ primera_capa (<span style=\"color: #0087ff; text-decoration-color: #0087ff\">Dense</span>)            │ (<span style=\"color: #00d7ff; text-decoration-color: #00d7ff\">None</span>, <span style=\"color: #00af00; text-decoration-color: #00af00\">30</span>)             │         <span style=\"color: #00af00; text-decoration-color: #00af00\">1,230</span> │\n",
              "├─────────────────────────────────┼────────────────────────┼───────────────┤\n",
              "│ segunda_capa (<span style=\"color: #0087ff; text-decoration-color: #0087ff\">Dense</span>)            │ (<span style=\"color: #00d7ff; text-decoration-color: #00d7ff\">None</span>, <span style=\"color: #00af00; text-decoration-color: #00af00\">20</span>)             │           <span style=\"color: #00af00; text-decoration-color: #00af00\">620</span> │\n",
              "├─────────────────────────────────┼────────────────────────┼───────────────┤\n",
              "│ ultima (<span style=\"color: #0087ff; text-decoration-color: #0087ff\">Dense</span>)                  │ (<span style=\"color: #00d7ff; text-decoration-color: #00d7ff\">None</span>, <span style=\"color: #00af00; text-decoration-color: #00af00\">1</span>)              │            <span style=\"color: #00af00; text-decoration-color: #00af00\">21</span> │\n",
              "└─────────────────────────────────┴────────────────────────┴───────────────┘\n",
              "</pre>\n"
            ],
            "text/plain": [
              "┏━━━━━━━━━━━━━━━━━━━━━━━━━━━━━━━━━┳━━━━━━━━━━━━━━━━━━━━━━━━┳━━━━━━━━━━━━━━━┓\n",
              "┃\u001b[1m \u001b[0m\u001b[1mLayer (type)                   \u001b[0m\u001b[1m \u001b[0m┃\u001b[1m \u001b[0m\u001b[1mOutput Shape          \u001b[0m\u001b[1m \u001b[0m┃\u001b[1m \u001b[0m\u001b[1m      Param #\u001b[0m\u001b[1m \u001b[0m┃\n",
              "┡━━━━━━━━━━━━━━━━━━━━━━━━━━━━━━━━━╇━━━━━━━━━━━━━━━━━━━━━━━━╇━━━━━━━━━━━━━━━┩\n",
              "│ primera_capa (\u001b[38;5;33mDense\u001b[0m)            │ (\u001b[38;5;45mNone\u001b[0m, \u001b[38;5;34m30\u001b[0m)             │         \u001b[38;5;34m1,230\u001b[0m │\n",
              "├─────────────────────────────────┼────────────────────────┼───────────────┤\n",
              "│ segunda_capa (\u001b[38;5;33mDense\u001b[0m)            │ (\u001b[38;5;45mNone\u001b[0m, \u001b[38;5;34m20\u001b[0m)             │           \u001b[38;5;34m620\u001b[0m │\n",
              "├─────────────────────────────────┼────────────────────────┼───────────────┤\n",
              "│ ultima (\u001b[38;5;33mDense\u001b[0m)                  │ (\u001b[38;5;45mNone\u001b[0m, \u001b[38;5;34m1\u001b[0m)              │            \u001b[38;5;34m21\u001b[0m │\n",
              "└─────────────────────────────────┴────────────────────────┴───────────────┘\n"
            ]
          },
          "metadata": {},
          "output_type": "display_data"
        },
        {
          "data": {
            "text/html": [
              "<pre style=\"white-space:pre;overflow-x:auto;line-height:normal;font-family:Menlo,'DejaVu Sans Mono',consolas,'Courier New',monospace\"><span style=\"font-weight: bold\"> Total params: </span><span style=\"color: #00af00; text-decoration-color: #00af00\">1,871</span> (7.31 KB)\n",
              "</pre>\n"
            ],
            "text/plain": [
              "\u001b[1m Total params: \u001b[0m\u001b[38;5;34m1,871\u001b[0m (7.31 KB)\n"
            ]
          },
          "metadata": {},
          "output_type": "display_data"
        },
        {
          "data": {
            "text/html": [
              "<pre style=\"white-space:pre;overflow-x:auto;line-height:normal;font-family:Menlo,'DejaVu Sans Mono',consolas,'Courier New',monospace\"><span style=\"font-weight: bold\"> Trainable params: </span><span style=\"color: #00af00; text-decoration-color: #00af00\">1,871</span> (7.31 KB)\n",
              "</pre>\n"
            ],
            "text/plain": [
              "\u001b[1m Trainable params: \u001b[0m\u001b[38;5;34m1,871\u001b[0m (7.31 KB)\n"
            ]
          },
          "metadata": {},
          "output_type": "display_data"
        },
        {
          "data": {
            "text/html": [
              "<pre style=\"white-space:pre;overflow-x:auto;line-height:normal;font-family:Menlo,'DejaVu Sans Mono',consolas,'Courier New',monospace\"><span style=\"font-weight: bold\"> Non-trainable params: </span><span style=\"color: #00af00; text-decoration-color: #00af00\">0</span> (0.00 B)\n",
              "</pre>\n"
            ],
            "text/plain": [
              "\u001b[1m Non-trainable params: \u001b[0m\u001b[38;5;34m0\u001b[0m (0.00 B)\n"
            ]
          },
          "metadata": {},
          "output_type": "display_data"
        }
      ],
      "source": [
        "# Podemos agregar otra capa sobre las anteriores\n",
        "# La capa también se puede crear en una variable y luego usarla\n",
        "\n",
        "red_de_prueba.add(keras.layers.Dense(1, activation='sigmoid', name='ultima'))\n",
        "\n",
        "# Nuestra red debiera tener ahora 3 capas\n",
        "red_de_prueba.summary()"
      ]
    },
    {
      "cell_type": "markdown",
      "metadata": {
        "id": "hGtVFqKtiikW"
      },
      "source": [
        "## Ejercicio 1\n",
        "Crea una red de nombre `red` con 3 capas escondidas con las siguientes dimensiones  (el primer numero es el tamaño del input, el ultimo el tamaño del output):\n",
        "\n",
        "30 --> 20 --> 10 --> 20 --> 4\n",
        "\n",
        "y con activaciones `'relu'`, `'sigmoid'`, `'relu'`, `'softmax'`. Ponle nombres \"primera\", \"segunda\", \"tercera\" y \"final\" a las capas de tu red. Tu código debiera comenzar con  `red = keras.Sequential()`.\n",
        "\n",
        "Al terminar tu código y ejecutar `red.summary()` debieras ver un texto como el siguiente:\n",
        "\n",
        "```txt\n",
        "_________________________________________________________________\n",
        "Layer (type)                 Output Shape              Param #   \n",
        "=================================================================\n",
        "primera (Dense)              (None, 20)                620       \n",
        "_________________________________________________________________\n",
        "segunda (Dense)              (None, 10)                210       \n",
        "_________________________________________________________________\n",
        "tercera (Dense)              (None, 20)                220       \n",
        "_________________________________________________________________\n",
        "final (Dense)                (None, 4)                 84        \n",
        "=================================================================\n",
        "Total params: 1,134                                              \n",
        "Trainable params: 1,134                                          \n",
        "Non-trainable params: 0                                          \n",
        "_________________________________________________________________\n",
        "```"
      ]
    },
    {
      "cell_type": "code",
      "execution_count": null,
      "metadata": {},
      "outputs": [],
      "source": []
    },
    {
      "cell_type": "code",
      "execution_count": 33,
      "metadata": {
        "id": "uPYncUn7hdzn"
      },
      "outputs": [
        {
          "name": "stdout",
          "output_type": "stream",
          "text": [
            "(None, 4)\n"
          ]
        },
        {
          "data": {
            "text/html": [
              "<pre style=\"white-space:pre;overflow-x:auto;line-height:normal;font-family:Menlo,'DejaVu Sans Mono',consolas,'Courier New',monospace\"><span style=\"font-weight: bold\">Model: \"sequential_5\"</span>\n",
              "</pre>\n"
            ],
            "text/plain": [
              "\u001b[1mModel: \"sequential_5\"\u001b[0m\n"
            ]
          },
          "metadata": {},
          "output_type": "display_data"
        },
        {
          "data": {
            "text/html": [
              "<pre style=\"white-space:pre;overflow-x:auto;line-height:normal;font-family:Menlo,'DejaVu Sans Mono',consolas,'Courier New',monospace\">┏━━━━━━━━━━━━━━━━━━━━━━━━━━━━━━━━━┳━━━━━━━━━━━━━━━━━━━━━━━━┳━━━━━━━━━━━━━━━┓\n",
              "┃<span style=\"font-weight: bold\"> Layer (type)                    </span>┃<span style=\"font-weight: bold\"> Output Shape           </span>┃<span style=\"font-weight: bold\">       Param # </span>┃\n",
              "┡━━━━━━━━━━━━━━━━━━━━━━━━━━━━━━━━━╇━━━━━━━━━━━━━━━━━━━━━━━━╇━━━━━━━━━━━━━━━┩\n",
              "│ 1st_layer (<span style=\"color: #0087ff; text-decoration-color: #0087ff\">Dense</span>)               │ (<span style=\"color: #00d7ff; text-decoration-color: #00d7ff\">None</span>, <span style=\"color: #00af00; text-decoration-color: #00af00\">20</span>)             │           <span style=\"color: #00af00; text-decoration-color: #00af00\">620</span> │\n",
              "├─────────────────────────────────┼────────────────────────┼───────────────┤\n",
              "│ 2nd_layer (<span style=\"color: #0087ff; text-decoration-color: #0087ff\">Dense</span>)               │ (<span style=\"color: #00d7ff; text-decoration-color: #00d7ff\">None</span>, <span style=\"color: #00af00; text-decoration-color: #00af00\">10</span>)             │           <span style=\"color: #00af00; text-decoration-color: #00af00\">210</span> │\n",
              "├─────────────────────────────────┼────────────────────────┼───────────────┤\n",
              "│ 3rd_layer (<span style=\"color: #0087ff; text-decoration-color: #0087ff\">Dense</span>)               │ (<span style=\"color: #00d7ff; text-decoration-color: #00d7ff\">None</span>, <span style=\"color: #00af00; text-decoration-color: #00af00\">20</span>)             │           <span style=\"color: #00af00; text-decoration-color: #00af00\">220</span> │\n",
              "├─────────────────────────────────┼────────────────────────┼───────────────┤\n",
              "│ output_layer (<span style=\"color: #0087ff; text-decoration-color: #0087ff\">Dense</span>)            │ (<span style=\"color: #00d7ff; text-decoration-color: #00d7ff\">None</span>, <span style=\"color: #00af00; text-decoration-color: #00af00\">4</span>)              │            <span style=\"color: #00af00; text-decoration-color: #00af00\">84</span> │\n",
              "└─────────────────────────────────┴────────────────────────┴───────────────┘\n",
              "</pre>\n"
            ],
            "text/plain": [
              "┏━━━━━━━━━━━━━━━━━━━━━━━━━━━━━━━━━┳━━━━━━━━━━━━━━━━━━━━━━━━┳━━━━━━━━━━━━━━━┓\n",
              "┃\u001b[1m \u001b[0m\u001b[1mLayer (type)                   \u001b[0m\u001b[1m \u001b[0m┃\u001b[1m \u001b[0m\u001b[1mOutput Shape          \u001b[0m\u001b[1m \u001b[0m┃\u001b[1m \u001b[0m\u001b[1m      Param #\u001b[0m\u001b[1m \u001b[0m┃\n",
              "┡━━━━━━━━━━━━━━━━━━━━━━━━━━━━━━━━━╇━━━━━━━━━━━━━━━━━━━━━━━━╇━━━━━━━━━━━━━━━┩\n",
              "│ 1st_layer (\u001b[38;5;33mDense\u001b[0m)               │ (\u001b[38;5;45mNone\u001b[0m, \u001b[38;5;34m20\u001b[0m)             │           \u001b[38;5;34m620\u001b[0m │\n",
              "├─────────────────────────────────┼────────────────────────┼───────────────┤\n",
              "│ 2nd_layer (\u001b[38;5;33mDense\u001b[0m)               │ (\u001b[38;5;45mNone\u001b[0m, \u001b[38;5;34m10\u001b[0m)             │           \u001b[38;5;34m210\u001b[0m │\n",
              "├─────────────────────────────────┼────────────────────────┼───────────────┤\n",
              "│ 3rd_layer (\u001b[38;5;33mDense\u001b[0m)               │ (\u001b[38;5;45mNone\u001b[0m, \u001b[38;5;34m20\u001b[0m)             │           \u001b[38;5;34m220\u001b[0m │\n",
              "├─────────────────────────────────┼────────────────────────┼───────────────┤\n",
              "│ output_layer (\u001b[38;5;33mDense\u001b[0m)            │ (\u001b[38;5;45mNone\u001b[0m, \u001b[38;5;34m4\u001b[0m)              │            \u001b[38;5;34m84\u001b[0m │\n",
              "└─────────────────────────────────┴────────────────────────┴───────────────┘\n"
            ]
          },
          "metadata": {},
          "output_type": "display_data"
        },
        {
          "data": {
            "text/html": [
              "<pre style=\"white-space:pre;overflow-x:auto;line-height:normal;font-family:Menlo,'DejaVu Sans Mono',consolas,'Courier New',monospace\"><span style=\"font-weight: bold\"> Total params: </span><span style=\"color: #00af00; text-decoration-color: #00af00\">1,134</span> (4.43 KB)\n",
              "</pre>\n"
            ],
            "text/plain": [
              "\u001b[1m Total params: \u001b[0m\u001b[38;5;34m1,134\u001b[0m (4.43 KB)\n"
            ]
          },
          "metadata": {},
          "output_type": "display_data"
        },
        {
          "data": {
            "text/html": [
              "<pre style=\"white-space:pre;overflow-x:auto;line-height:normal;font-family:Menlo,'DejaVu Sans Mono',consolas,'Courier New',monospace\"><span style=\"font-weight: bold\"> Trainable params: </span><span style=\"color: #00af00; text-decoration-color: #00af00\">1,134</span> (4.43 KB)\n",
              "</pre>\n"
            ],
            "text/plain": [
              "\u001b[1m Trainable params: \u001b[0m\u001b[38;5;34m1,134\u001b[0m (4.43 KB)\n"
            ]
          },
          "metadata": {},
          "output_type": "display_data"
        },
        {
          "data": {
            "text/html": [
              "<pre style=\"white-space:pre;overflow-x:auto;line-height:normal;font-family:Menlo,'DejaVu Sans Mono',consolas,'Courier New',monospace\"><span style=\"font-weight: bold\"> Non-trainable params: </span><span style=\"color: #00af00; text-decoration-color: #00af00\">0</span> (0.00 B)\n",
              "</pre>\n"
            ],
            "text/plain": [
              "\u001b[1m Non-trainable params: \u001b[0m\u001b[38;5;34m0\u001b[0m (0.00 B)\n"
            ]
          },
          "metadata": {},
          "output_type": "display_data"
        }
      ],
      "source": [
        "# Acá empieza tu código (~5 líneas)\n",
        "red = keras.Sequential()\n",
        "\n",
        "red.add(keras.layers.Dense(20, input_dim=30, activation=\"relu\", name=\"1st_layer\"))\n",
        "red.add(keras.layers.Dense(10, activation=\"sigmoid\", name=\"2nd_layer\"))\n",
        "red.add(keras.layers.Dense(20, activation=\"relu\", name=\"3rd_layer\"))\n",
        "red.add(keras.layers.Dense(4, activation=\"softmax\", name=\"output_layer\"))\n",
        "\n",
        "\n",
        "print(red.output_shape)\n",
        "red.summary()"
      ]
    },
    {
      "cell_type": "markdown",
      "metadata": {
        "id": "sh3O1Q19k3_z"
      },
      "source": [
        "## Ejercicio 2\n",
        "\n",
        "Una red sin pesos no puede hacer nada realmente. En este ejercicio agregaremos pesos al azar a cada capa de la red. Más adelante agregaremos pesos con sentido."
      ]
    },
    {
      "cell_type": "code",
      "execution_count": 34,
      "metadata": {
        "id": "CoM6KeLXlQsA"
      },
      "outputs": [],
      "source": [
        "np.random.seed(30) # esto es para que el proceso sea repetible\n",
        "\n",
        "# La primera capa es de dimensiones 30x20 con un bias de tamaño 20.\n",
        "# El siguiente código crea matrices de pesos y bias para la primera\n",
        "# capa de nuestra red anterior\n",
        "\n",
        "W1 = np.random.randn(30,20).astype('float32')\n",
        "b1 = np.random.randn(20).astype('float32')"
      ]
    },
    {
      "cell_type": "code",
      "execution_count": 35,
      "metadata": {
        "id": "yiXzRIPclQfZ"
      },
      "outputs": [],
      "source": [
        "# Con este código podemos setear los pesos directamente en la primera capa\n",
        "\n",
        "red.get_layer('1st_layer').set_weights((W1,b1))"
      ]
    },
    {
      "cell_type": "code",
      "execution_count": 36,
      "metadata": {
        "id": "T-Rfe6OGlQT7"
      },
      "outputs": [
        {
          "name": "stdout",
          "output_type": "stream",
          "text": [
            "-0.49068466 -0.49068466\n"
          ]
        }
      ],
      "source": [
        "# podemos ver que los pesos sean efectivamente los mismos haciendo esto\n",
        "\n",
        "(W, b) = red.get_layer('1st_layer').get_weights()\n",
        "print(W[10][10], W1[10][10])"
      ]
    },
    {
      "cell_type": "markdown",
      "metadata": {
        "id": "V42fmihJpKM0"
      },
      "source": [
        "Crea pesos y bias para todas las capas que restan (segunda, tercera, y final). Ponle los siguientes nombres a los pesos y bias: `W2`, `b2`, `W3`, `b3`, `U`,  y `c`.\n",
        "\n",
        "Al terminar tu código (si ejecutas todo bien desde el `np.random.seed(30)`), al ejecutar esta línea de código\n",
        "\n",
        "```python\n",
        "print(red.get_layer('final').get_weights()[0][0,3])\n",
        "```\n",
        "\n",
        "debieras obtener el valor `0.689416`.\n",
        "\n"
      ]
    },
    {
      "cell_type": "code",
      "execution_count": 37,
      "metadata": {
        "id": "gcrzK8RqlQGY"
      },
      "outputs": [],
      "source": [
        "# Genera los nuevos pesos y bias\n",
        "# Acá empieza tu código (~6 líneas)\n",
        "W2 = np.random.randn(20, 10).astype('float32')\n",
        "b2 = np.random.randn(10).astype('float32')\n",
        "W3 = np.random.randn(10, 20).astype('float32')\n",
        "b3 = np.random.randn(20).astype('float32')\n",
        "U = np.random.randn(20, 4).astype('float32')\n",
        "c = np.random.randn(4).astype('float32')\n",
        "# Acá termina tu código"
      ]
    },
    {
      "cell_type": "code",
      "execution_count": 38,
      "metadata": {
        "id": "KDpnMrRRmwoy"
      },
      "outputs": [],
      "source": [
        "# Ahora asigna los pesos a cada capa\n",
        "# Acá empieza tu código (~3 líneas)\n",
        "red.get_layer('2nd_layer').set_weights((W2, b2))\n",
        "red.get_layer('3rd_layer').set_weights((W3, b3))\n",
        "red.get_layer('output_layer').set_weights((U, c))\n",
        "# Acá termina tu código\n",
        "# Pro-tip: puedes referirte a una capa por su índice\n",
        "# usando red.layers[i]."
      ]
    },
    {
      "cell_type": "code",
      "execution_count": 39,
      "metadata": {
        "id": "iBExJxt9qmkX"
      },
      "outputs": [
        {
          "name": "stdout",
          "output_type": "stream",
          "text": [
            "0.689416\n"
          ]
        }
      ],
      "source": [
        "# Si todo anduvo bien, el valor de la variable impresa abajo\n",
        "# debiera ser 0.689416 (no olvides ejecutar todo el código desde\n",
        "# que se asigna la semilla).\n",
        "\n",
        "print(red.get_layer('output_layer').get_weights()[0][0,3])"
      ]
    },
    {
      "cell_type": "markdown",
      "metadata": {
        "id": "QBrHU8e7sBEK"
      },
      "source": [
        "## Ejercicio 3: Pasada hacia adelante por la red\n",
        "\n",
        "Una vez creada la red y los pesos, se puede usar la red completa para pasar un conjunto de datos completo por ella, también llamado \"predicción\". Para esto crearemos conjuntos de datos aleatorios."
      ]
    },
    {
      "cell_type": "code",
      "execution_count": 40,
      "metadata": {
        "id": "S2d3iJ8lqmjY"
      },
      "outputs": [],
      "source": [
        "# Primero creamos datos de entrada (también random).\n",
        "# Crearemos M=1000 casos\n",
        "\n",
        "np.random.seed(30)\n",
        "M = 1000\n",
        "X = np.random.randn(M, 30)"
      ]
    },
    {
      "cell_type": "code",
      "execution_count": 41,
      "metadata": {
        "id": "sZKLZZF9vVNY"
      },
      "outputs": [
        {
          "name": "stdout",
          "output_type": "stream",
          "text": [
            "[[ 0.02774178  0.4898778   0.42023164 -0.28935611  0.03058479  0.43415183\n",
            "   1.99952698  0.43156425 -0.99050523 -0.05710909  1.10122304  1.29250437\n",
            "   0.54052745  1.25239432  1.02688276 -0.10774856  0.12366795  1.00560067\n",
            "  -0.59393001 -0.07775604  0.63217615  0.90495627  0.68279093 -1.68561859\n",
            "  -0.77282981  0.41267801  0.14633539 -0.29860478 -0.27525187  0.44420499]\n",
            " [-0.67035023  0.49450513  2.55843712  2.19707903  0.16479335  0.75229629\n",
            "   0.71596993 -1.28622365  0.37660482 -1.09513919 -0.20031038 -1.1451353\n",
            "  -0.39797647 -0.71142084 -1.80980539  1.05754653  0.03537652  1.17215615\n",
            "  -0.47500267 -0.09322557  0.10460944 -0.59988213 -0.875007   -1.26971285\n",
            "   0.51133401 -0.37615699  1.51819677  0.25781382  0.36449487 -0.10589305]\n",
            " [-1.18845366  0.53925576  3.15520268  0.71549632  0.58096965  0.19820515\n",
            "  -0.95753055 -1.11376489  1.09200004  1.6566401   0.48958599  0.44022759\n",
            "   1.34185802 -0.77255487 -1.52307972  0.92506015  1.15050752 -0.46007198\n",
            "   1.50099056  0.40347495  0.38191204 -0.34938277 -1.54875994  0.85549542\n",
            "   0.7839891  -1.80072624 -1.6498081  -0.71576758  0.6195948   2.04317234]]\n"
          ]
        }
      ],
      "source": [
        "# Para seleccionar los datos desde la posición i a la j hacemos X[i:j+1]\n",
        "# Lo siguiente muestra los ejemplos de las posiciones 30, 31 y 32\n",
        "\n",
        "print(X[30:33])"
      ]
    },
    {
      "cell_type": "code",
      "execution_count": 42,
      "metadata": {
        "id": "C9StpXF1qmew"
      },
      "outputs": [
        {
          "name": "stdout",
          "output_type": "stream",
          "text": [
            "\u001b[1m1/1\u001b[0m \u001b[32m━━━━━━━━━━━━━━━━━━━━\u001b[0m\u001b[37m\u001b[0m \u001b[1m0s\u001b[0m 29ms/step\n",
            "[[9.9997497e-01 1.3936742e-05 1.0377056e-05 7.1393998e-07]\n",
            " [9.9999905e-01 3.1560728e-07 5.8284320e-07 3.1435191e-11]\n",
            " [9.9998999e-01 1.9251406e-06 8.1195822e-06 9.6304541e-11]]\n",
            "tamaño: (3, 4)\n",
            "<class 'numpy.ndarray'>\n"
          ]
        }
      ],
      "source": [
        "# Para predecir con la red, simplemente usamos red.predict() y le pasamos\n",
        "# todos los ejemplos para los que queremos que haga una predicción.\n",
        "# Lo siguiente genera la predicción para los ejemplos 30, 31 y 32.\n",
        "# Nota que el resultado es un arreglo/matriz de 3x4 (note el uso de shape)\n",
        "\n",
        "Pred = red.predict(X[30:33])\n",
        "print(Pred)\n",
        "print('tamaño:', Pred.shape)\n",
        "print(type(Pred))"
      ]
    },
    {
      "cell_type": "markdown",
      "metadata": {
        "id": "ld26YP8SweYS"
      },
      "source": [
        "Calcula la pasada hacia adelante (predicción) para los ejemplos desde el 890 al 903, ambos inclusive, y guardalos en la variable `Pred`.\n",
        "\n",
        "Luego imprime el valor `Pred[12,2]` y debiera darte el valor `0.9982584`"
      ]
    },
    {
      "cell_type": "code",
      "execution_count": 43,
      "metadata": {
        "id": "zUXaqNR9qmZg"
      },
      "outputs": [
        {
          "name": "stdout",
          "output_type": "stream",
          "text": [
            "\u001b[1m1/1\u001b[0m \u001b[32m━━━━━━━━━━━━━━━━━━━━\u001b[0m\u001b[37m\u001b[0m \u001b[1m0s\u001b[0m 29ms/step\n",
            "0.9982584\n"
          ]
        }
      ],
      "source": [
        "# Acá empieza tu código (~2 líneas)\n",
        "Pred = red.predict(X[890:903])\n",
        "print(Pred[12,2])\n",
        "# Acá termina tu código"
      ]
    },
    {
      "cell_type": "markdown",
      "metadata": {
        "id": "n7IXq8KdyqB9"
      },
      "source": [
        "## Ejercicio 4: Predicciones como probabilidades\n",
        "\n",
        "Cuando la red se usa con `softmax` en la última activación genera probabilidades que indican la probabilidad de predicción en cada clase. Para determinar la predicción en cada caso, podemos usar `np.argmax`, que calcula el índice del valor máximo en la predicción."
      ]
    },
    {
      "cell_type": "code",
      "execution_count": 44,
      "metadata": {
        "id": "coSL9RA9qmQs"
      },
      "outputs": [
        {
          "name": "stdout",
          "output_type": "stream",
          "text": [
            "\u001b[1m1/1\u001b[0m \u001b[32m━━━━━━━━━━━━━━━━━━━━\u001b[0m\u001b[37m\u001b[0m \u001b[1m0s\u001b[0m 10ms/step\n",
            "[[9.6245760e-01 2.8666478e-04 3.7254222e-02 1.5219048e-06]\n",
            " [5.7140422e-01 6.1606744e-04 4.2797640e-01 3.3052002e-06]\n",
            " [9.2316657e-01 1.9390080e-05 7.6814003e-02 1.3579297e-10]\n",
            " [9.9999034e-01 2.9783266e-08 9.7097372e-06 3.8440671e-11]\n",
            " [8.9252228e-03 2.6962394e-01 7.2144854e-01 2.3164444e-06]]\n",
            "(5, 4)\n"
          ]
        }
      ],
      "source": [
        "# Calculemos primero la predicción para los inputs en el rango 0:5\n",
        "\n",
        "Pred = red.predict(X[0:5])\n",
        "print(Pred)\n",
        "print(Pred.shape)"
      ]
    },
    {
      "cell_type": "code",
      "execution_count": 45,
      "metadata": {
        "id": "fYybT1OP2MDv"
      },
      "outputs": [
        {
          "name": "stdout",
          "output_type": "stream",
          "text": [
            "[0 0 0 0 2]\n",
            "(5,)\n"
          ]
        }
      ],
      "source": [
        "# np.argmax entrega el índice de la posición de mayor valor.\n",
        "# Con axis=1, le decimos que el máximo se debe calcular en cada \"fila\"\n",
        "\n",
        "clases = np.argmax(Pred, axis=1)\n",
        "print(clases)\n",
        "print(clases.shape)"
      ]
    },
    {
      "cell_type": "markdown",
      "metadata": {
        "id": "6edwFTJQ3YTN"
      },
      "source": [
        "Calcula la clase que la red predice para los ejemplos en los índices 199, 549, y 997. Tus resultados debieran ser 2, 0 y 1, respectivamente."
      ]
    },
    {
      "cell_type": "code",
      "execution_count": 46,
      "metadata": {
        "id": "4MK9cTpl1nBd"
      },
      "outputs": [
        {
          "name": "stdout",
          "output_type": "stream",
          "text": [
            "\u001b[1m1/1\u001b[0m \u001b[32m━━━━━━━━━━━━━━━━━━━━\u001b[0m\u001b[37m\u001b[0m \u001b[1m0s\u001b[0m 10ms/step\n",
            "[2 0 1]\n"
          ]
        }
      ],
      "source": [
        "# Acá empieza tu código (~5 líneas)\n",
        "pred = red.predict(X[[199, 549, 997]])\n",
        "predicted_clases = np.argmax(pred, axis=1)\n",
        "print(predicted_clases)\n",
        "# Acá termina tu código"
      ]
    },
    {
      "cell_type": "markdown",
      "metadata": {
        "id": "ITI4nuZZ4rLH"
      },
      "source": [
        "# Red para MNIST\n",
        "\n",
        "Ahora construiremos una red para un problema real de detección de números escritos a mano. No entrenaremos la red si no que cargaremos pesos directamente y la usaremos para hacer predicciónes.\n",
        "\n",
        "Vamos a partir cargando datos desde `keras.datasets.mnist`."
      ]
    },
    {
      "cell_type": "code",
      "execution_count": 47,
      "metadata": {
        "id": "VCBig7YD5Fp-"
      },
      "outputs": [
        {
          "name": "stdout",
          "output_type": "stream",
          "text": [
            "(10000, 28, 28)\n",
            "(10000,)\n"
          ]
        }
      ],
      "source": [
        "# Carga datos de MNIST (solo cargaremos un conjunto de pruebas).\n",
        "# Nota el tamaño de los datos\n",
        "\n",
        "_, (imgs, labs) = keras.datasets.mnist.load_data()\n",
        "print(imgs.shape)\n",
        "print(labs.shape)"
      ]
    },
    {
      "cell_type": "code",
      "execution_count": 48,
      "metadata": {},
      "outputs": [
        {
          "data": {
            "text/plain": [
              "array([[[0, 0, 0, ..., 0, 0, 0],\n",
              "        [0, 0, 0, ..., 0, 0, 0],\n",
              "        [0, 0, 0, ..., 0, 0, 0],\n",
              "        ...,\n",
              "        [0, 0, 0, ..., 0, 0, 0],\n",
              "        [0, 0, 0, ..., 0, 0, 0],\n",
              "        [0, 0, 0, ..., 0, 0, 0]],\n",
              "\n",
              "       [[0, 0, 0, ..., 0, 0, 0],\n",
              "        [0, 0, 0, ..., 0, 0, 0],\n",
              "        [0, 0, 0, ..., 0, 0, 0],\n",
              "        ...,\n",
              "        [0, 0, 0, ..., 0, 0, 0],\n",
              "        [0, 0, 0, ..., 0, 0, 0],\n",
              "        [0, 0, 0, ..., 0, 0, 0]],\n",
              "\n",
              "       [[0, 0, 0, ..., 0, 0, 0],\n",
              "        [0, 0, 0, ..., 0, 0, 0],\n",
              "        [0, 0, 0, ..., 0, 0, 0],\n",
              "        ...,\n",
              "        [0, 0, 0, ..., 0, 0, 0],\n",
              "        [0, 0, 0, ..., 0, 0, 0],\n",
              "        [0, 0, 0, ..., 0, 0, 0]],\n",
              "\n",
              "       ...,\n",
              "\n",
              "       [[0, 0, 0, ..., 0, 0, 0],\n",
              "        [0, 0, 0, ..., 0, 0, 0],\n",
              "        [0, 0, 0, ..., 0, 0, 0],\n",
              "        ...,\n",
              "        [0, 0, 0, ..., 0, 0, 0],\n",
              "        [0, 0, 0, ..., 0, 0, 0],\n",
              "        [0, 0, 0, ..., 0, 0, 0]],\n",
              "\n",
              "       [[0, 0, 0, ..., 0, 0, 0],\n",
              "        [0, 0, 0, ..., 0, 0, 0],\n",
              "        [0, 0, 0, ..., 0, 0, 0],\n",
              "        ...,\n",
              "        [0, 0, 0, ..., 0, 0, 0],\n",
              "        [0, 0, 0, ..., 0, 0, 0],\n",
              "        [0, 0, 0, ..., 0, 0, 0]],\n",
              "\n",
              "       [[0, 0, 0, ..., 0, 0, 0],\n",
              "        [0, 0, 0, ..., 0, 0, 0],\n",
              "        [0, 0, 0, ..., 0, 0, 0],\n",
              "        ...,\n",
              "        [0, 0, 0, ..., 0, 0, 0],\n",
              "        [0, 0, 0, ..., 0, 0, 0],\n",
              "        [0, 0, 0, ..., 0, 0, 0]]], dtype=uint8)"
            ]
          },
          "execution_count": 48,
          "metadata": {},
          "output_type": "execute_result"
        }
      ],
      "source": [
        "imgs"
      ]
    },
    {
      "cell_type": "code",
      "execution_count": 49,
      "metadata": {
        "id": "YJG2M0EFqmDM"
      },
      "outputs": [
        {
          "name": "stdout",
          "output_type": "stream",
          "text": [
            "etiqueta: 6\n",
            "<class 'numpy.ndarray'>\n"
          ]
        },
        {
          "data": {
            "text/plain": [
              "<matplotlib.image.AxesImage at 0x175924200>"
            ]
          },
          "execution_count": 49,
          "metadata": {},
          "output_type": "execute_result"
        },
        {
          "data": {
            "image/png": "[encoded data removed]",
            "text/plain": [
              "<Figure size 640x480 with 1 Axes>"
            ]
          },
          "metadata": {},
          "output_type": "display_data"
        }
      ],
      "source": [
        "# Podemos visualizar una imagen cualquiera\n",
        "# (si ejecutas esta celda cambiando 'd' puedes ver una distinta)\n",
        "\n",
        "from matplotlib import pyplot as plt\n",
        "\n",
        "d = 81\n",
        "print('etiqueta:',labs[d])\n",
        "print(type(imgs[d]))\n",
        "plt.imshow(imgs[d])"
      ]
    },
    {
      "cell_type": "code",
      "execution_count": 50,
      "metadata": {},
      "outputs": [
        {
          "name": "stdout",
          "output_type": "stream",
          "text": [
            "(10000, 28, 28)\n"
          ]
        }
      ],
      "source": [
        "print(imgs.shape)"
      ]
    },
    {
      "cell_type": "markdown",
      "metadata": {
        "id": "acd4D9ug62wE"
      },
      "source": [
        "Lo primero que debes notar es que los inputs tienen forma de (10000, 28, 28) lo que será  un problema para cualquier red que hagamos. Por lo que cambiaremos su forma y lo dejaremos todo en una matriz de 10000 x (28*28), esto lo hacemos con el comando `reshape`."
      ]
    },
    {
      "cell_type": "code",
      "execution_count": 51,
      "metadata": {
        "id": "Zwgirqpf6wSS"
      },
      "outputs": [
        {
          "name": "stdout",
          "output_type": "stream",
          "text": [
            "(10000, 784)\n"
          ]
        }
      ],
      "source": [
        "X = imgs.reshape(10000,28*28)\n",
        "print(X.shape)"
      ]
    },
    {
      "cell_type": "code",
      "execution_count": 52,
      "metadata": {},
      "outputs": [
        {
          "data": {
            "text/plain": [
              "255"
            ]
          },
          "execution_count": 52,
          "metadata": {},
          "output_type": "execute_result"
        }
      ],
      "source": [
        "np.max(X)"
      ]
    },
    {
      "cell_type": "markdown",
      "metadata": {
        "id": "Rrn6QrOU7mSu"
      },
      "source": [
        "Lo siguiente que haremos será \"normalizar\" los valores de entrada, de manera tal que todos estén entre 0 y 1. Más adelante veremos que este paso resulta demasiado importante en el buen funcionamiento de las redes. Las imágenes son valores de intensidad de un pixel de entre 0 y 255. Para normalizarlos simplemente dividimos todos los datos por 255."
      ]
    },
    {
      "cell_type": "code",
      "execution_count": 53,
      "metadata": {
        "id": "ahNA9N-w7xU9"
      },
      "outputs": [],
      "source": [
        "# Dividimos por 255\n",
        "X = X / 255"
      ]
    },
    {
      "cell_type": "markdown",
      "metadata": {
        "id": "rJ1-1vQO8Olq"
      },
      "source": [
        "##  Descripción de la  red para MNIST\n",
        "\n",
        "\n",
        "En esta parte, usaremos pesos y bias preconstruidos para crear una red que predice (con alta certeza) la etiqueta de imágenes de números escritos a mano en imágenes de 28x28 pixeles. La red tiene esta arquitectura:\n",
        "\n",
        "784 --> 32 (relu) --> 16 (relu) --> 10 (softmax)\n",
        "\n",
        "Tu trabajo será crear la red con esa arquitectura usando `keras.Sequential` y `keras.layers.Dense`, usar las funciones de activación correspondientes, cargar los pesos y bias en cada una  de las capas, y luego probar la red haciendo predicciones para ciertos ejemplos.\n",
        "\n",
        "** Este ejercicio es considerablemente más largo que los anteriores **"
      ]
    },
    {
      "cell_type": "markdown",
      "metadata": {
        "id": "jI_uKzRd9xhV"
      },
      "source": [
        "## Paso 0: Construyendo las matrices de pesos\n",
        "\n",
        "Carga los pesos y bias  de la red. Los archivos son tales que `W1.txt` y `b1.txt`  corresponden al a primera capa, `W2.txt` y `b2.txt` a la segunda,  y `U` y `c` a la capa final."
      ]
    },
    {
      "cell_type": "code",
      "execution_count": 54,
      "metadata": {
        "id": "_DPyvChpa2Yn"
      },
      "outputs": [],
      "source": [
        "# Descarga el archivo weights.zip de U-Cursos y súbelo a tu espacio de trabajo.\n",
        "# Luego ejecuta el siguiente comando\n",
        "\n",
        "# !unzip weights.zip"
      ]
    },
    {
      "cell_type": "code",
      "execution_count": 55,
      "metadata": {
        "id": "z34D60UvPNps"
      },
      "outputs": [
        {
          "name": "stdout",
          "output_type": "stream",
          "text": [
            "[[ 0.02636364  0.06568346 -0.02482673 ...  0.06149631 -0.03473232\n",
            "   0.06809703]\n",
            " [-0.02971764 -0.02478597  0.00580254 ... -0.07566687  0.02680941\n",
            "   0.07584586]\n",
            " [ 0.0807442  -0.08454198  0.00992839 ... -0.01893479 -0.02036883\n",
            "   0.04711231]\n",
            " ...\n",
            " [-0.00894365 -0.01725908  0.03955131 ... -0.00504347 -0.01497971\n",
            "   0.05481998]\n",
            " [-0.05592409 -0.00502993 -0.08276961 ... -0.01817209 -0.06887927\n",
            "   0.04386307]\n",
            " [ 0.01762018 -0.00478172  0.0027548  ... -0.07573508 -0.01388455\n",
            "   0.04268762]]\n",
            "[-0.02508362  0.19261283  0.06472187  0.27056798 -0.10046624  0.12686016\n",
            "  0.17396523 -0.16500261  0.02978605  0.03032095  0.0981359  -0.01420388\n",
            "  0.04868673 -0.05548819 -0.08497917  0.01261333  0.02339766 -0.18250209\n",
            "  0.11480191  0.13852693  0.14653802  0.09261902  0.19532701  0.1139895\n",
            "  0.01889363  0.07546338 -0.03172971  0.02741032  0.06703086 -0.00696668\n",
            " -0.09745006 -0.02555481]\n"
          ]
        }
      ],
      "source": [
        "# Carga tu los datos en las variables W2, b2, U, y c\n",
        "# Código aquí\n",
        "W1 = np.loadtxt('W1.txt')\n",
        "b1 = np.loadtxt('b1.txt')\n",
        "W2 = np.loadtxt('W2.txt')\n",
        "b2 = np.loadtxt('b2.txt')\n",
        "U = np.loadtxt('U.txt')\n",
        "c = np.loadtxt('c.txt')\n",
        "\n",
        "print(W1)\n",
        "print(b1)"
      ]
    },
    {
      "cell_type": "markdown",
      "metadata": {
        "id": "p151G5LU9kBZ"
      },
      "source": [
        "## Paso 1: Creando la  red\n",
        "\n",
        "Crea la red. Llámale simplemente `red`.\n"
      ]
    },
    {
      "cell_type": "code",
      "execution_count": 56,
      "metadata": {
        "id": "XwE2o5aW9jVR"
      },
      "outputs": [
        {
          "data": {
            "text/html": [
              "<pre style=\"white-space:pre;overflow-x:auto;line-height:normal;font-family:Menlo,'DejaVu Sans Mono',consolas,'Courier New',monospace\"><span style=\"font-weight: bold\">Model: \"sequential_6\"</span>\n",
              "</pre>\n"
            ],
            "text/plain": [
              "\u001b[1mModel: \"sequential_6\"\u001b[0m\n"
            ]
          },
          "metadata": {},
          "output_type": "display_data"
        },
        {
          "data": {
            "text/html": [
              "<pre style=\"white-space:pre;overflow-x:auto;line-height:normal;font-family:Menlo,'DejaVu Sans Mono',consolas,'Courier New',monospace\">┏━━━━━━━━━━━━━━━━━━━━━━━━━━━━━━━━━┳━━━━━━━━━━━━━━━━━━━━━━━━┳━━━━━━━━━━━━━━━┓\n",
              "┃<span style=\"font-weight: bold\"> Layer (type)                    </span>┃<span style=\"font-weight: bold\"> Output Shape           </span>┃<span style=\"font-weight: bold\">       Param # </span>┃\n",
              "┡━━━━━━━━━━━━━━━━━━━━━━━━━━━━━━━━━╇━━━━━━━━━━━━━━━━━━━━━━━━╇━━━━━━━━━━━━━━━┩\n",
              "│ primera (<span style=\"color: #0087ff; text-decoration-color: #0087ff\">Dense</span>)                 │ (<span style=\"color: #00d7ff; text-decoration-color: #00d7ff\">None</span>, <span style=\"color: #00af00; text-decoration-color: #00af00\">32</span>)             │        <span style=\"color: #00af00; text-decoration-color: #00af00\">25,120</span> │\n",
              "├─────────────────────────────────┼────────────────────────┼───────────────┤\n",
              "│ segunda (<span style=\"color: #0087ff; text-decoration-color: #0087ff\">Dense</span>)                 │ (<span style=\"color: #00d7ff; text-decoration-color: #00d7ff\">None</span>, <span style=\"color: #00af00; text-decoration-color: #00af00\">16</span>)             │           <span style=\"color: #00af00; text-decoration-color: #00af00\">528</span> │\n",
              "├─────────────────────────────────┼────────────────────────┼───────────────┤\n",
              "│ salida (<span style=\"color: #0087ff; text-decoration-color: #0087ff\">Dense</span>)                  │ (<span style=\"color: #00d7ff; text-decoration-color: #00d7ff\">None</span>, <span style=\"color: #00af00; text-decoration-color: #00af00\">10</span>)             │           <span style=\"color: #00af00; text-decoration-color: #00af00\">170</span> │\n",
              "└─────────────────────────────────┴────────────────────────┴───────────────┘\n",
              "</pre>\n"
            ],
            "text/plain": [
              "┏━━━━━━━━━━━━━━━━━━━━━━━━━━━━━━━━━┳━━━━━━━━━━━━━━━━━━━━━━━━┳━━━━━━━━━━━━━━━┓\n",
              "┃\u001b[1m \u001b[0m\u001b[1mLayer (type)                   \u001b[0m\u001b[1m \u001b[0m┃\u001b[1m \u001b[0m\u001b[1mOutput Shape          \u001b[0m\u001b[1m \u001b[0m┃\u001b[1m \u001b[0m\u001b[1m      Param #\u001b[0m\u001b[1m \u001b[0m┃\n",
              "┡━━━━━━━━━━━━━━━━━━━━━━━━━━━━━━━━━╇━━━━━━━━━━━━━━━━━━━━━━━━╇━━━━━━━━━━━━━━━┩\n",
              "│ primera (\u001b[38;5;33mDense\u001b[0m)                 │ (\u001b[38;5;45mNone\u001b[0m, \u001b[38;5;34m32\u001b[0m)             │        \u001b[38;5;34m25,120\u001b[0m │\n",
              "├─────────────────────────────────┼────────────────────────┼───────────────┤\n",
              "│ segunda (\u001b[38;5;33mDense\u001b[0m)                 │ (\u001b[38;5;45mNone\u001b[0m, \u001b[38;5;34m16\u001b[0m)             │           \u001b[38;5;34m528\u001b[0m │\n",
              "├─────────────────────────────────┼────────────────────────┼───────────────┤\n",
              "│ salida (\u001b[38;5;33mDense\u001b[0m)                  │ (\u001b[38;5;45mNone\u001b[0m, \u001b[38;5;34m10\u001b[0m)             │           \u001b[38;5;34m170\u001b[0m │\n",
              "└─────────────────────────────────┴────────────────────────┴───────────────┘\n"
            ]
          },
          "metadata": {},
          "output_type": "display_data"
        },
        {
          "data": {
            "text/html": [
              "<pre style=\"white-space:pre;overflow-x:auto;line-height:normal;font-family:Menlo,'DejaVu Sans Mono',consolas,'Courier New',monospace\"><span style=\"font-weight: bold\"> Total params: </span><span style=\"color: #00af00; text-decoration-color: #00af00\">25,818</span> (100.85 KB)\n",
              "</pre>\n"
            ],
            "text/plain": [
              "\u001b[1m Total params: \u001b[0m\u001b[38;5;34m25,818\u001b[0m (100.85 KB)\n"
            ]
          },
          "metadata": {},
          "output_type": "display_data"
        },
        {
          "data": {
            "text/html": [
              "<pre style=\"white-space:pre;overflow-x:auto;line-height:normal;font-family:Menlo,'DejaVu Sans Mono',consolas,'Courier New',monospace\"><span style=\"font-weight: bold\"> Trainable params: </span><span style=\"color: #00af00; text-decoration-color: #00af00\">25,818</span> (100.85 KB)\n",
              "</pre>\n"
            ],
            "text/plain": [
              "\u001b[1m Trainable params: \u001b[0m\u001b[38;5;34m25,818\u001b[0m (100.85 KB)\n"
            ]
          },
          "metadata": {},
          "output_type": "display_data"
        },
        {
          "data": {
            "text/html": [
              "<pre style=\"white-space:pre;overflow-x:auto;line-height:normal;font-family:Menlo,'DejaVu Sans Mono',consolas,'Courier New',monospace\"><span style=\"font-weight: bold\"> Non-trainable params: </span><span style=\"color: #00af00; text-decoration-color: #00af00\">0</span> (0.00 B)\n",
              "</pre>\n"
            ],
            "text/plain": [
              "\u001b[1m Non-trainable params: \u001b[0m\u001b[38;5;34m0\u001b[0m (0.00 B)\n"
            ]
          },
          "metadata": {},
          "output_type": "display_data"
        }
      ],
      "source": [
        "# Acá empieza tu código (~5 líneas)\n",
        "red_mnist = keras.Sequential()\n",
        "\n",
        "red_mnist.add(keras.layers.Dense(32, input_dim=784, activation='relu', name='primera'))\n",
        "red_mnist.add(keras.layers.Dense(16, activation='relu', name='segunda'))\n",
        "red_mnist.add(keras.layers.Dense(10, activation='softmax', name='salida'))\n",
        "red_mnist.summary()\n",
        "# Acá termina tu código"
      ]
    },
    {
      "cell_type": "markdown",
      "metadata": {
        "id": "cqtnSS0yQhpp"
      },
      "source": [
        "## Paso 2: Carga los pesos\n",
        "\n",
        "Carga los pesos en cada una de las capas  (según lo que aprendiste antes)"
      ]
    },
    {
      "cell_type": "code",
      "execution_count": 57,
      "metadata": {
        "id": "8HKdts_lQqpf"
      },
      "outputs": [],
      "source": [
        "# Acá empieza tu código (~3 líneas)\n",
        "red_mnist.layers[0].set_weights((W1, b1))\n",
        "red_mnist.layers[1].set_weights((W2, b2))\n",
        "red_mnist.layers[2].set_weights((U, c))\n",
        "# Acá termina tu código"
      ]
    },
    {
      "cell_type": "code",
      "execution_count": 58,
      "metadata": {
        "id": "XqS9-vraRc0g"
      },
      "outputs": [
        {
          "name": "stdout",
          "output_type": "stream",
          "text": [
            "[[1. 1. 1. 1. 1. 1. 1. 1. 1. 1. 1. 1. 1. 1. 1. 1. 1. 1. 1. 1. 1. 1. 1. 1.\n",
            "  1. 1. 1. 1. 1. 1. 1. 1. 1. 1. 1. 1. 1. 1. 1. 1. 1. 1. 1. 1. 1. 1. 1. 1.\n",
            "  1. 1. 1. 1. 1. 1. 1. 1. 1. 1. 1. 1. 1. 1. 1. 1. 1. 1. 1. 1. 1. 1. 1. 1.\n",
            "  1. 1. 1. 1. 1. 1. 1. 1. 1. 1. 1. 1. 1. 1. 1. 1. 1. 1. 1. 1. 1. 1. 1. 1.\n",
            "  1. 1. 1. 1. 1. 1. 1. 1. 1. 1. 1. 1. 1. 1. 1. 1. 1. 1. 1. 1. 1. 1. 1. 1.\n",
            "  1. 1. 1. 1. 1. 1. 1. 1. 1. 1. 1. 1. 1. 1. 1. 1. 1. 1. 1. 1. 1. 1. 1. 1.\n",
            "  1. 1. 1. 1. 1. 1. 1. 1. 1. 1. 1. 1. 1. 1. 1. 1. 1. 1. 1. 1. 1. 1. 1. 1.\n",
            "  1. 1. 1. 1. 1. 1. 1. 1. 1. 1. 1. 1. 1. 1. 1. 1. 1. 1. 1. 1. 1. 1. 1. 1.\n",
            "  1. 1. 1. 1. 1. 1. 1. 1. 1. 1. 1. 1. 1. 1. 1. 1. 1. 1. 1. 1. 1. 1. 1. 1.\n",
            "  1. 1. 1. 1. 1. 1. 1. 1. 1. 1. 1. 1. 1. 1. 1. 1. 1. 1. 1. 1. 1. 1. 1. 1.\n",
            "  1. 1. 1. 1. 1. 1. 1. 1. 1. 1. 1. 1. 1. 1. 1. 1. 1. 1. 1. 1. 1. 1. 1. 1.\n",
            "  1. 1. 1. 1. 1. 1. 1. 1. 1. 1. 1. 1. 1. 1. 1. 1. 1. 1. 1. 1. 1. 1. 1. 1.\n",
            "  1. 1. 1. 1. 1. 1. 1. 1. 1. 1. 1. 1. 1. 1. 1. 1. 1. 1. 1. 1. 1. 1. 1. 1.\n",
            "  1. 1. 1. 1. 1. 1. 1. 1. 1. 1. 1. 1. 1. 1. 1. 1. 1. 1. 1. 1. 1. 1. 1. 1.\n",
            "  1. 1. 1. 1. 1. 1. 1. 1. 1. 1. 1. 1. 1. 1. 1. 1. 1. 1. 1. 1. 1. 1. 1. 1.\n",
            "  1. 1. 1. 1. 1. 1. 1. 1. 1. 1. 1. 1. 1. 1. 1. 1. 1. 1. 1. 1. 1. 1. 1. 1.\n",
            "  1. 1. 1. 1. 1. 1. 1. 1. 1. 1. 1. 1. 1. 1. 1. 1. 1. 1. 1. 1. 1. 1. 1. 1.\n",
            "  1. 1. 1. 1. 1. 1. 1. 1. 1. 1. 1. 1. 1. 1. 1. 1. 1. 1. 1. 1. 1. 1. 1. 1.\n",
            "  1. 1. 1. 1. 1. 1. 1. 1. 1. 1. 1. 1. 1. 1. 1. 1. 1. 1. 1. 1. 1. 1. 1. 1.\n",
            "  1. 1. 1. 1. 1. 1. 1. 1. 1. 1. 1. 1. 1. 1. 1. 1. 1. 1. 1. 1. 1. 1. 1. 1.\n",
            "  1. 1. 1. 1. 1. 1. 1. 1. 1. 1. 1. 1. 1. 1. 1. 1. 1. 1. 1. 1. 1. 1. 1. 1.\n",
            "  1. 1. 1. 1. 1. 1. 1. 1. 1. 1. 1. 1. 1. 1. 1. 1. 1. 1. 1. 1. 1. 1. 1. 1.\n",
            "  1. 1. 1. 1. 1. 1. 1. 1. 1. 1. 1. 1. 1. 1. 1. 1. 1. 1. 1. 1. 1. 1. 1. 1.\n",
            "  1. 1. 1. 1. 1. 1. 1. 1. 1. 1. 1. 1. 1. 1. 1. 1. 1. 1. 1. 1. 1. 1. 1. 1.\n",
            "  1. 1. 1. 1. 1. 1. 1. 1. 1. 1. 1. 1. 1. 1. 1. 1. 1. 1. 1. 1. 1. 1. 1. 1.\n",
            "  1. 1. 1. 1. 1. 1. 1. 1. 1. 1. 1. 1. 1. 1. 1. 1. 1. 1. 1. 1. 1. 1. 1. 1.\n",
            "  1. 1. 1. 1. 1. 1. 1. 1. 1. 1. 1. 1. 1. 1. 1. 1. 1. 1. 1. 1. 1. 1. 1. 1.\n",
            "  1. 1. 1. 1. 1. 1. 1. 1. 1. 1. 1. 1. 1. 1. 1. 1. 1. 1. 1. 1. 1. 1. 1. 1.\n",
            "  1. 1. 1. 1. 1. 1. 1. 1. 1. 1. 1. 1. 1. 1. 1. 1. 1. 1. 1. 1. 1. 1. 1. 1.\n",
            "  1. 1. 1. 1. 1. 1. 1. 1. 1. 1. 1. 1. 1. 1. 1. 1. 1. 1. 1. 1. 1. 1. 1. 1.\n",
            "  1. 1. 1. 1. 1. 1. 1. 1. 1. 1. 1. 1. 1. 1. 1. 1. 1. 1. 1. 1. 1. 1. 1. 1.\n",
            "  1. 1. 1. 1. 1. 1. 1. 1. 1. 1. 1. 1. 1. 1. 1. 1. 1. 1. 1. 1. 1. 1. 1. 1.\n",
            "  1. 1. 1. 1. 1. 1. 1. 1. 1. 1. 1. 1. 1. 1. 1. 1.]]\n",
            "WARNING:tensorflow:5 out of the last 9 calls to <function TensorFlowTrainer.make_predict_function.<locals>.one_step_on_data_distributed at 0x1501036a0> triggered tf.function retracing. Tracing is expensive and the excessive number of tracings could be due to (1) creating @tf.function repeatedly in a loop, (2) passing tensors with different shapes, (3) passing Python objects instead of tensors. For (1), please define your @tf.function outside of the loop. For (2), @tf.function has reduce_retracing=True option that can avoid unnecessary retracing. For (3), please refer to https://www.tensorflow.org/guide/function#controlling_retracing and https://www.tensorflow.org/api_docs/python/tf/function for  more details.\n",
            "\u001b[1m1/1\u001b[0m \u001b[32m━━━━━━━━━━━━━━━━━━━━\u001b[0m\u001b[37m\u001b[0m \u001b[1m0s\u001b[0m 64ms/step\n",
            "4.8292024e-18\n"
          ]
        }
      ],
      "source": [
        "# Si cargaste todo correctamente, lo siguiente debiera dar el valor 0.96696055\n",
        "\n",
        "test_in = np.ones((1,28*28)).astype('float32')\n",
        "print(test_in)\n",
        "test_out = red_mnist.predict(test_in)\n",
        "print(test_out[0][7])"
      ]
    },
    {
      "cell_type": "markdown",
      "metadata": {
        "id": "BeFT2hyYUS5h"
      },
      "source": [
        "## Paso 3: Probabilidades de predicción\n",
        "\n",
        "Primero imprime la imágen en el índice 195, y luego,  con tu red cargada calcula las probabilidades para cada clase para la imagen en el índice 195. ¿Cuáles son las dos clases más probables para este ejemplo?"
      ]
    },
    {
      "cell_type": "code",
      "execution_count": 59,
      "metadata": {
        "id": "6tS4YlSVbchu"
      },
      "outputs": [
        {
          "data": {
            "text/plain": [
              "<matplotlib.image.AxesImage at 0x150133fb0>"
            ]
          },
          "execution_count": 59,
          "metadata": {},
          "output_type": "execute_result"
        },
        {
          "data": {
            "image/png": "[encoded data removed]",
            "text/plain": [
              "<Figure size 640x480 with 1 Axes>"
            ]
          },
          "metadata": {},
          "output_type": "display_data"
        }
      ],
      "source": [
        "# Primero imprimimos\n",
        "plt.imshow(imgs[195])"
      ]
    },
    {
      "cell_type": "code",
      "execution_count": 60,
      "metadata": {
        "id": "I17mjitvbAAF"
      },
      "outputs": [
        {
          "name": "stdout",
          "output_type": "stream",
          "text": [
            "(28, 28)\n",
            "WARNING:tensorflow:6 out of the last 10 calls to <function TensorFlowTrainer.make_predict_function.<locals>.one_step_on_data_distributed at 0x1501036a0> triggered tf.function retracing. Tracing is expensive and the excessive number of tracings could be due to (1) creating @tf.function repeatedly in a loop, (2) passing tensors with different shapes, (3) passing Python objects instead of tensors. For (1), please define your @tf.function outside of the loop. For (2), @tf.function has reduce_retracing=True option that can avoid unnecessary retracing. For (3), please refer to https://www.tensorflow.org/guide/function#controlling_retracing and https://www.tensorflow.org/api_docs/python/tf/function for  more details.\n",
            "\u001b[1m1/1\u001b[0m \u001b[32m━━━━━━━━━━━━━━━━━━━━\u001b[0m\u001b[37m\u001b[0m \u001b[1m0s\u001b[0m 28ms/step\n",
            "Pred: [[0. 0. 0. 1. 0. 0. 0. 0. 0. 0.]]\n",
            "[3]\n"
          ]
        }
      ],
      "source": [
        "# Ahora calcula las probabilidades para cada clase.\n",
        "# Acá empieza tu código (~2 líneas)\n",
        "print(imgs[195].shape)\n",
        "\n",
        "Pred = red_mnist.predict(imgs[195].reshape(1,784))\n",
        "print(\"Pred:\", Pred)\n",
        "clases = np.argmax(Pred, axis=1)\n",
        "print(clases)\n",
        "\n",
        "# Acá termina tu código\n",
        "# Cuáles son las más altas?"
      ]
    },
    {
      "cell_type": "markdown",
      "metadata": {
        "id": "ScmWvBEjckPf"
      },
      "source": [
        "## Paso 4: Prediciendo Clases\n",
        "\n",
        "Usa lo que has aprendido antes (en particular la función `np.argmax`) para hacer un trozo de código que, dada una variable que representa un índice entre 0 y 9999, muestre la imagen asociada a ese índice, la etiqueta real de la imagen, la etiqueta predicha por la red. La celda debería generar un output de la siguiente forma\n",
        "\n",
        "```\n",
        "etiqueta real: <valor1>\n",
        "predicción: <valor2>\n",
        "<imagen>\n",
        "```\n",
        "\n",
        "Opcional: si sabes un poco más de python, trata de hacer una función que reciba el índice como input y entregue lo pedido."
      ]
    },
    {
      "cell_type": "code",
      "execution_count": null,
      "metadata": {
        "id": "ZAK8Kp7PcjsM"
      },
      "outputs": [
        {
          "name": "stdout",
          "output_type": "stream",
          "text": [
            "\u001b[1m1/1\u001b[0m \u001b[32m━━━━━━━━━━━━━━━━━━━━\u001b[0m\u001b[37m\u001b[0m \u001b[1m0s\u001b[0m 56ms/step\n",
            "etiqueta real: 3\n",
            "predicción: [3]\n"
          ]
        },
        {
          "data": {
            "image/png": "[encoded data removed]",
            "text/plain": [
              "<Figure size 640x480 with 1 Axes>"
            ]
          },
          "metadata": {},
          "output_type": "display_data"
        }
      ],
      "source": [
        "# Acá empieza tu código (~5 líneas)\n",
        "def show_img(i):\n",
        "  predicted_class = red_mnist.predict(imgs[i].reshape(1, 28 * 28))\n",
        "  print(\"etiqueta real:\", labs[i])\n",
        "  print(\"predicción:\", np.argmax(predicted_class, axis=1))\n",
        "  plt.imshow(imgs[i])\n",
        "\n",
        "show_img(195)\n",
        "# Acá termina tu código"
      ]
    },
    {
      "cell_type": "markdown",
      "metadata": {
        "id": "HmqbZXDth3ry"
      },
      "source": [
        "## Paso 5: Opcional\n",
        "\n",
        "Haz un trozo de código que calcule cuántas predicciones de la red fueron correctas y cuántas fueron incorrectas, y use esos números para computar un porcentaje de acierto de la red.\n",
        "\n",
        "Opcional: si sabes algo de numpy, intenta hacer todo el proceso sin hacer iteraciones (de hecho, podrías tratar de hacerlo con y sin iteraciones y luego comprobar cuál es la ganancia en tiempo de hacerlo sin usar una iteración)."
      ]
    },
    {
      "cell_type": "code",
      "execution_count": null,
      "metadata": {
        "cellView": "both",
        "id": "RuVK_Je3h26V"
      },
      "outputs": [],
      "source": [
        "# Acá empieza tu código (~5 líneas)\n",
        "\n",
        "\n",
        "\n",
        "# Acá termina tu código"
      ]
    }
  ],
  "metadata": {
    "accelerator": "GPU",
    "colab": {
      "collapsed_sections": [
        "n7IXq8KdyqB9",
        "rJ1-1vQO8Olq",
        "jI_uKzRd9xhV",
        "BeFT2hyYUS5h",
        "ScmWvBEjckPf",
        "HmqbZXDth3ry"
      ],
      "provenance": []
    },
    "kernelspec": {
      "display_name": "Python 3",
      "name": "python3"
    },
    "language_info": {
      "codemirror_mode": {
        "name": "ipython",
        "version": 3
      },
      "file_extension": ".py",
      "mimetype": "text/x-python",
      "name": "python",
      "nbconvert_exporter": "python",
      "pygments_lexer": "ipython3",
      "version": "3.12.2"
    }
  },
  "nbformat": 4,
  "nbformat_minor": 0
}
